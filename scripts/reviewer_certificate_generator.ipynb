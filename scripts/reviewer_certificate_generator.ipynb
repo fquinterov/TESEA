{
  "nbformat": 4,
  "nbformat_minor": 0,
  "metadata": {
    "colab": {
      "provenance": [],
      "authorship_tag": "ABX9TyNM+XpayAjejZM/qx2pdT4x",
      "include_colab_link": true
    },
    "kernelspec": {
      "name": "python3",
      "display_name": "Python 3"
    },
    "language_info": {
      "name": "python"
    }
  },
  "cells": [
    {
      "cell_type": "markdown",
      "metadata": {
        "id": "view-in-github",
        "colab_type": "text"
      },
      "source": [
        "<a href=\"https://colab.research.google.com/github/fquinterov/TESEA/blob/main/scripts/reviewer_certificate_generator.ipynb\" target=\"_parent\"><img src=\"https://colab.research.google.com/assets/colab-badge.svg\" alt=\"Open In Colab\"/></a>"
      ]
    },
    {
      "cell_type": "markdown",
      "source": [
        "# Reviewer Certificate Generator\n",
        "---\n",
        "Code by Fernando Quintero, Journal Manager\n",
        "\n",
        "TESEA, Transactions on Energy Systems and Engineering Applications"
      ],
      "metadata": {
        "id": "sTyr4Gjjv3_u"
      }
    },
    {
      "cell_type": "code",
      "execution_count": 1,
      "metadata": {
        "colab": {
          "base_uri": "https://localhost:8080/"
        },
        "id": "qvXM3z0K_AD8",
        "outputId": "522f7e58-ff27-4458-87b4-7e6bd70b600e"
      },
      "outputs": [
        {
          "output_type": "stream",
          "name": "stdout",
          "text": [
            "  Preparing metadata (setup.py) ... \u001b[?25l\u001b[?25hdone\n",
            "  Building wheel for fpdf (setup.py) ... \u001b[?25l\u001b[?25hdone\n"
          ]
        }
      ],
      "source": [
        "!pip install --quiet pandas fpdf gspread oauth2client\n",
        "!pip install --quiet python-docx\n",
        "!pip install --quiet reportlab"
      ]
    },
    {
      "cell_type": "code",
      "source": [
        "from google.colab import auth\n",
        "import gspread\n",
        "import google.auth\n",
        "import pandas as pd\n",
        "\n",
        "from reportlab.pdfgen import canvas\n",
        "from reportlab.lib.pagesizes import A4, landscape\n",
        "from reportlab.lib.units import mm\n",
        "from reportlab.lib.colors import HexColor\n",
        "from reportlab.lib.utils import simpleSplit\n",
        "import pandas as pd\n",
        "import os\\\n",
        "\n",
        "\n",
        "GITHUB_RAW_URL = \"https://raw.githubusercontent.com/fquinterov/TESEA/main/assets/review_certificate_template.png\"\n",
        "os.system(f\"wget -q {GITHUB_RAW_URL}\")"
      ],
      "metadata": {
        "id": "X98I01Qu_ORs",
        "colab": {
          "base_uri": "https://localhost:8080/"
        },
        "outputId": "940233f0-57d7-4d23-fc35-4bc9502b181d"
      },
      "execution_count": 113,
      "outputs": [
        {
          "output_type": "execute_result",
          "data": {
            "text/plain": [
              "0"
            ]
          },
          "metadata": {},
          "execution_count": 113
        }
      ]
    },
    {
      "cell_type": "code",
      "source": [
        "auth.authenticate_user()"
      ],
      "metadata": {
        "id": "y65wbqfc_VHw"
      },
      "execution_count": 114,
      "outputs": []
    },
    {
      "cell_type": "code",
      "source": [
        "creds, _ = google.auth.default(scopes=[\"https://www.googleapis.com/auth/spreadsheets.readonly\"])\n",
        "gc = gspread.authorize(creds)\n",
        "\n",
        "from google.colab import userdata\n",
        "\n",
        "\n",
        "SHEET_KEY = userdata.get('sheet_key')\n",
        "sh = gc.open_by_key(SHEET_KEY)\n",
        "\n",
        "ws = sh.sheet1\n",
        "df = pd.DataFrame(ws.get_all_records())\n",
        "df.head()"
      ],
      "metadata": {
        "id": "TxRt7MHO_jT5",
        "colab": {
          "base_uri": "https://localhost:8080/",
          "height": 98
        },
        "outputId": "b9954c3b-854b-4084-87bf-10e64cf27a0c"
      },
      "execution_count": 115,
      "outputs": [
        {
          "output_type": "execute_result",
          "data": {
            "text/plain": [
              "          full_name                                        affiliation  \\\n",
              "0  Nasreen Mansoori  Assistant Professor, Electrical Engineering De...   \n",
              "\n",
              "                                location                                 mail  \\\n",
              "0  Silver Oak University, Gujarat, India  nasreenbanumansoori.ce@socet.edu.in   \n",
              "\n",
              "                                               title volume issue       date  \n",
              "0  Advanced Power Quality Improvement Using Re-Li...               8/07/2025  "
            ],
            "text/html": [
              "\n",
              "  <div id=\"df-06d1eff6-d9cc-4203-be01-0fbec664fd2f\" class=\"colab-df-container\">\n",
              "    <div>\n",
              "<style scoped>\n",
              "    .dataframe tbody tr th:only-of-type {\n",
              "        vertical-align: middle;\n",
              "    }\n",
              "\n",
              "    .dataframe tbody tr th {\n",
              "        vertical-align: top;\n",
              "    }\n",
              "\n",
              "    .dataframe thead th {\n",
              "        text-align: right;\n",
              "    }\n",
              "</style>\n",
              "<table border=\"1\" class=\"dataframe\">\n",
              "  <thead>\n",
              "    <tr style=\"text-align: right;\">\n",
              "      <th></th>\n",
              "      <th>full_name</th>\n",
              "      <th>affiliation</th>\n",
              "      <th>location</th>\n",
              "      <th>mail</th>\n",
              "      <th>title</th>\n",
              "      <th>volume</th>\n",
              "      <th>issue</th>\n",
              "      <th>date</th>\n",
              "    </tr>\n",
              "  </thead>\n",
              "  <tbody>\n",
              "    <tr>\n",
              "      <th>0</th>\n",
              "      <td>Nasreen Mansoori</td>\n",
              "      <td>Assistant Professor, Electrical Engineering De...</td>\n",
              "      <td>Silver Oak University, Gujarat, India</td>\n",
              "      <td>nasreenbanumansoori.ce@socet.edu.in</td>\n",
              "      <td>Advanced Power Quality Improvement Using Re-Li...</td>\n",
              "      <td></td>\n",
              "      <td></td>\n",
              "      <td>8/07/2025</td>\n",
              "    </tr>\n",
              "  </tbody>\n",
              "</table>\n",
              "</div>\n",
              "    <div class=\"colab-df-buttons\">\n",
              "\n",
              "  <div class=\"colab-df-container\">\n",
              "    <button class=\"colab-df-convert\" onclick=\"convertToInteractive('df-06d1eff6-d9cc-4203-be01-0fbec664fd2f')\"\n",
              "            title=\"Convert this dataframe to an interactive table.\"\n",
              "            style=\"display:none;\">\n",
              "\n",
              "  <svg xmlns=\"http://www.w3.org/2000/svg\" height=\"24px\" viewBox=\"0 -960 960 960\">\n",
              "    <path d=\"M120-120v-720h720v720H120Zm60-500h600v-160H180v160Zm220 220h160v-160H400v160Zm0 220h160v-160H400v160ZM180-400h160v-160H180v160Zm440 0h160v-160H620v160ZM180-180h160v-160H180v160Zm440 0h160v-160H620v160Z\"/>\n",
              "  </svg>\n",
              "    </button>\n",
              "\n",
              "  <style>\n",
              "    .colab-df-container {\n",
              "      display:flex;\n",
              "      gap: 12px;\n",
              "    }\n",
              "\n",
              "    .colab-df-convert {\n",
              "      background-color: #E8F0FE;\n",
              "      border: none;\n",
              "      border-radius: 50%;\n",
              "      cursor: pointer;\n",
              "      display: none;\n",
              "      fill: #1967D2;\n",
              "      height: 32px;\n",
              "      padding: 0 0 0 0;\n",
              "      width: 32px;\n",
              "    }\n",
              "\n",
              "    .colab-df-convert:hover {\n",
              "      background-color: #E2EBFA;\n",
              "      box-shadow: 0px 1px 2px rgba(60, 64, 67, 0.3), 0px 1px 3px 1px rgba(60, 64, 67, 0.15);\n",
              "      fill: #174EA6;\n",
              "    }\n",
              "\n",
              "    .colab-df-buttons div {\n",
              "      margin-bottom: 4px;\n",
              "    }\n",
              "\n",
              "    [theme=dark] .colab-df-convert {\n",
              "      background-color: #3B4455;\n",
              "      fill: #D2E3FC;\n",
              "    }\n",
              "\n",
              "    [theme=dark] .colab-df-convert:hover {\n",
              "      background-color: #434B5C;\n",
              "      box-shadow: 0px 1px 3px 1px rgba(0, 0, 0, 0.15);\n",
              "      filter: drop-shadow(0px 1px 2px rgba(0, 0, 0, 0.3));\n",
              "      fill: #FFFFFF;\n",
              "    }\n",
              "  </style>\n",
              "\n",
              "    <script>\n",
              "      const buttonEl =\n",
              "        document.querySelector('#df-06d1eff6-d9cc-4203-be01-0fbec664fd2f button.colab-df-convert');\n",
              "      buttonEl.style.display =\n",
              "        google.colab.kernel.accessAllowed ? 'block' : 'none';\n",
              "\n",
              "      async function convertToInteractive(key) {\n",
              "        const element = document.querySelector('#df-06d1eff6-d9cc-4203-be01-0fbec664fd2f');\n",
              "        const dataTable =\n",
              "          await google.colab.kernel.invokeFunction('convertToInteractive',\n",
              "                                                    [key], {});\n",
              "        if (!dataTable) return;\n",
              "\n",
              "        const docLinkHtml = 'Like what you see? Visit the ' +\n",
              "          '<a target=\"_blank\" href=https://colab.research.google.com/notebooks/data_table.ipynb>data table notebook</a>'\n",
              "          + ' to learn more about interactive tables.';\n",
              "        element.innerHTML = '';\n",
              "        dataTable['output_type'] = 'display_data';\n",
              "        await google.colab.output.renderOutput(dataTable, element);\n",
              "        const docLink = document.createElement('div');\n",
              "        docLink.innerHTML = docLinkHtml;\n",
              "        element.appendChild(docLink);\n",
              "      }\n",
              "    </script>\n",
              "  </div>\n",
              "\n",
              "\n",
              "    </div>\n",
              "  </div>\n"
            ],
            "application/vnd.google.colaboratory.intrinsic+json": {
              "type": "dataframe",
              "variable_name": "df",
              "summary": "{\n  \"name\": \"df\",\n  \"rows\": 1,\n  \"fields\": [\n    {\n      \"column\": \"full_name\",\n      \"properties\": {\n        \"dtype\": \"string\",\n        \"num_unique_values\": 1,\n        \"samples\": [\n          \"Nasreen Mansoori\"\n        ],\n        \"semantic_type\": \"\",\n        \"description\": \"\"\n      }\n    },\n    {\n      \"column\": \"affiliation\",\n      \"properties\": {\n        \"dtype\": \"string\",\n        \"num_unique_values\": 1,\n        \"samples\": [\n          \"Assistant Professor, Electrical Engineering Department\"\n        ],\n        \"semantic_type\": \"\",\n        \"description\": \"\"\n      }\n    },\n    {\n      \"column\": \"location\",\n      \"properties\": {\n        \"dtype\": \"string\",\n        \"num_unique_values\": 1,\n        \"samples\": [\n          \"Silver Oak University, Gujarat, India\"\n        ],\n        \"semantic_type\": \"\",\n        \"description\": \"\"\n      }\n    },\n    {\n      \"column\": \"mail\",\n      \"properties\": {\n        \"dtype\": \"string\",\n        \"num_unique_values\": 1,\n        \"samples\": [\n          \"nasreenbanumansoori.ce@socet.edu.in\"\n        ],\n        \"semantic_type\": \"\",\n        \"description\": \"\"\n      }\n    },\n    {\n      \"column\": \"title\",\n      \"properties\": {\n        \"dtype\": \"string\",\n        \"num_unique_values\": 1,\n        \"samples\": [\n          \"Advanced Power Quality Improvement Using Re-Lift Sepic Converter and DSTATCOM with Neural Network Control\"\n        ],\n        \"semantic_type\": \"\",\n        \"description\": \"\"\n      }\n    },\n    {\n      \"column\": \"volume\",\n      \"properties\": {\n        \"dtype\": \"object\",\n        \"num_unique_values\": 1,\n        \"samples\": [\n          \"\"\n        ],\n        \"semantic_type\": \"\",\n        \"description\": \"\"\n      }\n    },\n    {\n      \"column\": \"issue\",\n      \"properties\": {\n        \"dtype\": \"object\",\n        \"num_unique_values\": 1,\n        \"samples\": [\n          \"\"\n        ],\n        \"semantic_type\": \"\",\n        \"description\": \"\"\n      }\n    },\n    {\n      \"column\": \"date\",\n      \"properties\": {\n        \"dtype\": \"object\",\n        \"num_unique_values\": 1,\n        \"samples\": [\n          \"8/07/2025\"\n        ],\n        \"semantic_type\": \"\",\n        \"description\": \"\"\n      }\n    }\n  ]\n}"
            }
          },
          "metadata": {},
          "execution_count": 115
        }
      ]
    },
    {
      "cell_type": "code",
      "source": [
        "def draw_certificate(data, out_path):\n",
        "    # set up canvas\n",
        "    c = canvas.Canvas(out_path, pagesize=landscape(A4))\n",
        "    width, height = landscape(A4)\n",
        "\n",
        "    # draw background template\n",
        "    c.drawImage(\"/content/review_certificate_template.png\", 0, 0, width=width, height=height)\n",
        "\n",
        "    # subtitle / Awarded line\n",
        "    c.setFont(\"Helvetica\", 16)\n",
        "    c.setFillColor(HexColor(\"#000000\"))\n",
        "    c.drawCentredString(width/2, height - 85*mm, \"This is to certify that\")\n",
        "\n",
        "    # name\n",
        "    c.setFont(\"Helvetica-Bold\", 22)\n",
        "    c.drawCentredString(width/2, height - 100*mm, data['full_name'])\n",
        "\n",
        "    # body text with wrapping\n",
        "    full_text = (\n",
        "        f\"has successfully completed the peer review of the manuscript titled \"\n",
        "        f\"“{data['title']}” submitted to the Transactions on Energy Systems \"\n",
        "        f\"and Engineering Applications.\"\n",
        "    )\n",
        "    max_width = 215 * mm\n",
        "    wrapped = simpleSplit(full_text, \"Helvetica\", 14, max_width)\n",
        "\n",
        "    text = c.beginText(30*mm, height - 115*mm)\n",
        "    text.setFont(\"Helvetica\", 16)\n",
        "    text.setLeading(18)\n",
        "    for line in wrapped:\n",
        "        text.textLine(line)\n",
        "    c.drawText(text)\n",
        "\n",
        "    # date\n",
        "    c.setFont(\"Helvetica\", 16)\n",
        "    c.drawCentredString(width/2, height - 145*mm, f\"Date of Review Completion: “{data['date']}”\")\n",
        "\n",
        "    # editor info\n",
        "    #c.setFont(\"Helvetica\", 10)\n",
        "    #c.drawString(30*mm, 35*mm, data['editor'])\n",
        "\n",
        "    c.save()\n",
        "\n",
        "target = 0\n",
        "for idx, row in df.iterrows():\n",
        "    if idx == target:\n",
        "        safe_name = row['full_name'].replace(' ', '_')\n",
        "        draw_certificate(row, f\"cert_{safe_name}.pdf\")\n",
        "        break"
      ],
      "metadata": {
        "id": "mHkFSoYO_k9q"
      },
      "execution_count": 116,
      "outputs": []
    }
  ]
}